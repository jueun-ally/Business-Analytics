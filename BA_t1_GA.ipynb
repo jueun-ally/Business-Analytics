{
 "cells": [
  {
   "cell_type": "markdown",
   "id": "ad231ac5",
   "metadata": {},
   "source": [
    "# 🤷‍♀️Genetic Algorithm🤷‍♂️  \n",
    "\n",
    "Genetic Algorithm은 차원 축소 기법 중 변수 선택법에 속하는 알고리즘이다.  \n",
    "Genetic Algorithm은 자연 선택설을 기반으로 한 진화 알고리즘으로, 우수한 유전자가 다음 세대에서도 잘 발현될 수 있도록 학습해나간다.  \n",
    "  \n",
    "알고리즘은 다음 6가지 절차를 따른다.  \n",
    "1. 염색체 초기화\n",
    "2. 모델 학습\n",
    "3. 적합도 평가\n",
    "4. 부모 염색체 선택\n",
    "5. 자식 염색체 생성\n",
    "6. 최적 변수 집합 선택"
   ]
  },
  {
   "cell_type": "code",
   "execution_count": 12,
   "id": "eff5c1ab",
   "metadata": {},
   "outputs": [],
   "source": [
    "# 필요한 라이브러리 불러옴\n",
    "\n",
    "import pandas as pd\n",
    "import random\n",
    "from sklearn.linear_model import LinearRegression\n",
    "from sklearn.metrics import r2_score"
   ]
  },
  {
   "cell_type": "markdown",
   "id": "14166aab",
   "metadata": {},
   "source": [
    "활용 데이터 - Energy Efficiency dataset  \n",
    "  \n",
    "https://archive.ics.uci.edu/ml/datasets/Energy+efficiency  \n",
    "  \n",
    "We perform energy analysis using 12 different building shapes simulated in Ecotect. The buildings differ with respect to the glazing area, the glazing area distribution, and the orientation, amongst other parameters. We simulate various settings as functions of the afore-mentioned characteristics to obtain 768 building shapes. The dataset comprises 768 samples and 8 features, aiming to predict two real valued responses. It can also be used as a multi-class classification problem if the response is rounded to the nearest integer.  \n",
    "  \n",
    "X1 : Relative Compactness  \n",
    "X2 : Surface Area  \n",
    "X3 : Wall Area  \n",
    "X4 : Roof Area  \n",
    "X5 : Overall Height  \n",
    "X6 : Orientation  \n",
    "X7 : Glazing Area  \n",
    "X8 : Glazing Area Distribution  \n",
    "Y1 : Heating Load  "
   ]
  },
  {
   "cell_type": "code",
   "execution_count": 3,
   "id": "811a12b5",
   "metadata": {},
   "outputs": [
    {
     "data": {
      "text/html": [
       "<div>\n",
       "<style scoped>\n",
       "    .dataframe tbody tr th:only-of-type {\n",
       "        vertical-align: middle;\n",
       "    }\n",
       "\n",
       "    .dataframe tbody tr th {\n",
       "        vertical-align: top;\n",
       "    }\n",
       "\n",
       "    .dataframe thead th {\n",
       "        text-align: right;\n",
       "    }\n",
       "</style>\n",
       "<table border=\"1\" class=\"dataframe\">\n",
       "  <thead>\n",
       "    <tr style=\"text-align: right;\">\n",
       "      <th></th>\n",
       "      <th>X1</th>\n",
       "      <th>X2</th>\n",
       "      <th>X3</th>\n",
       "      <th>X4</th>\n",
       "      <th>X5</th>\n",
       "      <th>X6</th>\n",
       "      <th>X7</th>\n",
       "      <th>X8</th>\n",
       "      <th>Y1</th>\n",
       "    </tr>\n",
       "  </thead>\n",
       "  <tbody>\n",
       "    <tr>\n",
       "      <th>0</th>\n",
       "      <td>0.98</td>\n",
       "      <td>514.5</td>\n",
       "      <td>294.0</td>\n",
       "      <td>110.25</td>\n",
       "      <td>7.0</td>\n",
       "      <td>2.0</td>\n",
       "      <td>0.0</td>\n",
       "      <td>0.0</td>\n",
       "      <td>15.55</td>\n",
       "    </tr>\n",
       "    <tr>\n",
       "      <th>1</th>\n",
       "      <td>0.98</td>\n",
       "      <td>514.5</td>\n",
       "      <td>294.0</td>\n",
       "      <td>110.25</td>\n",
       "      <td>7.0</td>\n",
       "      <td>3.0</td>\n",
       "      <td>0.0</td>\n",
       "      <td>0.0</td>\n",
       "      <td>15.55</td>\n",
       "    </tr>\n",
       "    <tr>\n",
       "      <th>2</th>\n",
       "      <td>0.98</td>\n",
       "      <td>514.5</td>\n",
       "      <td>294.0</td>\n",
       "      <td>110.25</td>\n",
       "      <td>7.0</td>\n",
       "      <td>4.0</td>\n",
       "      <td>0.0</td>\n",
       "      <td>0.0</td>\n",
       "      <td>15.55</td>\n",
       "    </tr>\n",
       "    <tr>\n",
       "      <th>3</th>\n",
       "      <td>0.98</td>\n",
       "      <td>514.5</td>\n",
       "      <td>294.0</td>\n",
       "      <td>110.25</td>\n",
       "      <td>7.0</td>\n",
       "      <td>5.0</td>\n",
       "      <td>0.0</td>\n",
       "      <td>0.0</td>\n",
       "      <td>15.55</td>\n",
       "    </tr>\n",
       "    <tr>\n",
       "      <th>4</th>\n",
       "      <td>0.90</td>\n",
       "      <td>563.5</td>\n",
       "      <td>318.5</td>\n",
       "      <td>122.50</td>\n",
       "      <td>7.0</td>\n",
       "      <td>2.0</td>\n",
       "      <td>0.0</td>\n",
       "      <td>0.0</td>\n",
       "      <td>20.84</td>\n",
       "    </tr>\n",
       "    <tr>\n",
       "      <th>...</th>\n",
       "      <td>...</td>\n",
       "      <td>...</td>\n",
       "      <td>...</td>\n",
       "      <td>...</td>\n",
       "      <td>...</td>\n",
       "      <td>...</td>\n",
       "      <td>...</td>\n",
       "      <td>...</td>\n",
       "      <td>...</td>\n",
       "    </tr>\n",
       "    <tr>\n",
       "      <th>763</th>\n",
       "      <td>0.64</td>\n",
       "      <td>784.0</td>\n",
       "      <td>343.0</td>\n",
       "      <td>220.50</td>\n",
       "      <td>3.5</td>\n",
       "      <td>5.0</td>\n",
       "      <td>0.4</td>\n",
       "      <td>5.0</td>\n",
       "      <td>17.88</td>\n",
       "    </tr>\n",
       "    <tr>\n",
       "      <th>764</th>\n",
       "      <td>0.62</td>\n",
       "      <td>808.5</td>\n",
       "      <td>367.5</td>\n",
       "      <td>220.50</td>\n",
       "      <td>3.5</td>\n",
       "      <td>2.0</td>\n",
       "      <td>0.4</td>\n",
       "      <td>5.0</td>\n",
       "      <td>16.54</td>\n",
       "    </tr>\n",
       "    <tr>\n",
       "      <th>765</th>\n",
       "      <td>0.62</td>\n",
       "      <td>808.5</td>\n",
       "      <td>367.5</td>\n",
       "      <td>220.50</td>\n",
       "      <td>3.5</td>\n",
       "      <td>3.0</td>\n",
       "      <td>0.4</td>\n",
       "      <td>5.0</td>\n",
       "      <td>16.44</td>\n",
       "    </tr>\n",
       "    <tr>\n",
       "      <th>766</th>\n",
       "      <td>0.62</td>\n",
       "      <td>808.5</td>\n",
       "      <td>367.5</td>\n",
       "      <td>220.50</td>\n",
       "      <td>3.5</td>\n",
       "      <td>4.0</td>\n",
       "      <td>0.4</td>\n",
       "      <td>5.0</td>\n",
       "      <td>16.48</td>\n",
       "    </tr>\n",
       "    <tr>\n",
       "      <th>767</th>\n",
       "      <td>0.62</td>\n",
       "      <td>808.5</td>\n",
       "      <td>367.5</td>\n",
       "      <td>220.50</td>\n",
       "      <td>3.5</td>\n",
       "      <td>5.0</td>\n",
       "      <td>0.4</td>\n",
       "      <td>5.0</td>\n",
       "      <td>16.64</td>\n",
       "    </tr>\n",
       "  </tbody>\n",
       "</table>\n",
       "<p>768 rows × 9 columns</p>\n",
       "</div>"
      ],
      "text/plain": [
       "       X1     X2     X3      X4   X5   X6   X7   X8     Y1\n",
       "0    0.98  514.5  294.0  110.25  7.0  2.0  0.0  0.0  15.55\n",
       "1    0.98  514.5  294.0  110.25  7.0  3.0  0.0  0.0  15.55\n",
       "2    0.98  514.5  294.0  110.25  7.0  4.0  0.0  0.0  15.55\n",
       "3    0.98  514.5  294.0  110.25  7.0  5.0  0.0  0.0  15.55\n",
       "4    0.90  563.5  318.5  122.50  7.0  2.0  0.0  0.0  20.84\n",
       "..    ...    ...    ...     ...  ...  ...  ...  ...    ...\n",
       "763  0.64  784.0  343.0  220.50  3.5  5.0  0.4  5.0  17.88\n",
       "764  0.62  808.5  367.5  220.50  3.5  2.0  0.4  5.0  16.54\n",
       "765  0.62  808.5  367.5  220.50  3.5  3.0  0.4  5.0  16.44\n",
       "766  0.62  808.5  367.5  220.50  3.5  4.0  0.4  5.0  16.48\n",
       "767  0.62  808.5  367.5  220.50  3.5  5.0  0.4  5.0  16.64\n",
       "\n",
       "[768 rows x 9 columns]"
      ]
     },
     "execution_count": 3,
     "metadata": {},
     "output_type": "execute_result"
    }
   ],
   "source": [
    "dataset = pd.read_csv('energy_efficiency.csv')\n",
    "dataset = dataset.iloc[:768,:-1]\n",
    "dataset"
   ]
  },
  {
   "cell_type": "code",
   "execution_count": 4,
   "id": "56e3239d",
   "metadata": {},
   "outputs": [],
   "source": [
    "x = dataset.drop('Y1', axis=1)\n",
    "y = dataset['Y1']"
   ]
  },
  {
   "cell_type": "markdown",
   "id": "c6b1a834",
   "metadata": {},
   "source": [
    "- 1단계 : 염색체 초기화"
   ]
  },
  {
   "cell_type": "code",
   "execution_count": 5,
   "id": "0eaf74d4",
   "metadata": {},
   "outputs": [
    {
     "data": {
      "text/html": [
       "<div>\n",
       "<style scoped>\n",
       "    .dataframe tbody tr th:only-of-type {\n",
       "        vertical-align: middle;\n",
       "    }\n",
       "\n",
       "    .dataframe tbody tr th {\n",
       "        vertical-align: top;\n",
       "    }\n",
       "\n",
       "    .dataframe thead th {\n",
       "        text-align: right;\n",
       "    }\n",
       "</style>\n",
       "<table border=\"1\" class=\"dataframe\">\n",
       "  <thead>\n",
       "    <tr style=\"text-align: right;\">\n",
       "      <th></th>\n",
       "      <th>0</th>\n",
       "      <th>1</th>\n",
       "      <th>2</th>\n",
       "      <th>3</th>\n",
       "      <th>4</th>\n",
       "      <th>5</th>\n",
       "      <th>6</th>\n",
       "      <th>7</th>\n",
       "    </tr>\n",
       "  </thead>\n",
       "  <tbody>\n",
       "    <tr>\n",
       "      <th>0</th>\n",
       "      <td>0.86</td>\n",
       "      <td>0.11</td>\n",
       "      <td>0.72</td>\n",
       "      <td>0.90</td>\n",
       "      <td>0.81</td>\n",
       "      <td>0.96</td>\n",
       "      <td>0.61</td>\n",
       "      <td>0.93</td>\n",
       "    </tr>\n",
       "    <tr>\n",
       "      <th>1</th>\n",
       "      <td>0.75</td>\n",
       "      <td>0.56</td>\n",
       "      <td>0.43</td>\n",
       "      <td>0.09</td>\n",
       "      <td>0.83</td>\n",
       "      <td>0.85</td>\n",
       "      <td>0.62</td>\n",
       "      <td>0.80</td>\n",
       "    </tr>\n",
       "    <tr>\n",
       "      <th>2</th>\n",
       "      <td>0.96</td>\n",
       "      <td>0.36</td>\n",
       "      <td>0.30</td>\n",
       "      <td>0.20</td>\n",
       "      <td>0.13</td>\n",
       "      <td>0.80</td>\n",
       "      <td>0.97</td>\n",
       "      <td>0.29</td>\n",
       "    </tr>\n",
       "    <tr>\n",
       "      <th>3</th>\n",
       "      <td>0.14</td>\n",
       "      <td>0.90</td>\n",
       "      <td>0.50</td>\n",
       "      <td>0.83</td>\n",
       "      <td>0.53</td>\n",
       "      <td>0.71</td>\n",
       "      <td>0.40</td>\n",
       "      <td>0.70</td>\n",
       "    </tr>\n",
       "    <tr>\n",
       "      <th>4</th>\n",
       "      <td>0.98</td>\n",
       "      <td>0.58</td>\n",
       "      <td>0.40</td>\n",
       "      <td>0.08</td>\n",
       "      <td>0.37</td>\n",
       "      <td>0.67</td>\n",
       "      <td>0.03</td>\n",
       "      <td>0.41</td>\n",
       "    </tr>\n",
       "    <tr>\n",
       "      <th>5</th>\n",
       "      <td>0.81</td>\n",
       "      <td>0.45</td>\n",
       "      <td>0.07</td>\n",
       "      <td>0.05</td>\n",
       "      <td>0.66</td>\n",
       "      <td>0.52</td>\n",
       "      <td>0.22</td>\n",
       "      <td>0.71</td>\n",
       "    </tr>\n",
       "  </tbody>\n",
       "</table>\n",
       "</div>"
      ],
      "text/plain": [
       "      0     1     2     3     4     5     6     7\n",
       "0  0.86  0.11  0.72  0.90  0.81  0.96  0.61  0.93\n",
       "1  0.75  0.56  0.43  0.09  0.83  0.85  0.62  0.80\n",
       "2  0.96  0.36  0.30  0.20  0.13  0.80  0.97  0.29\n",
       "3  0.14  0.90  0.50  0.83  0.53  0.71  0.40  0.70\n",
       "4  0.98  0.58  0.40  0.08  0.37  0.67  0.03  0.41\n",
       "5  0.81  0.45  0.07  0.05  0.66  0.52  0.22  0.71"
      ]
     },
     "execution_count": 5,
     "metadata": {},
     "output_type": "execute_result"
    }
   ],
   "source": [
    "# 유전자마다 난수를 생성해서 이진 인코딩\n",
    "\n",
    "generation = []\n",
    "\n",
    "for j in range(6) : # population size = 6\n",
    "    chromosome = []\n",
    "    \n",
    "    for i in range(8) : # 변수 개수\n",
    "        a = random.random()\n",
    "        a = round(a, 2)\n",
    "        chromosome.append(a)\n",
    "        \n",
    "    generation.append(chromosome)\n",
    "\n",
    "generation = pd.DataFrame(generation)\n",
    "generation"
   ]
  },
  {
   "cell_type": "code",
   "execution_count": 6,
   "id": "e2dde24e",
   "metadata": {
    "scrolled": true
   },
   "outputs": [
    {
     "data": {
      "text/plain": [
       "[[1, 0, 1, 1, 1, 1, 1, 1],\n",
       " [1, 1, 0, 0, 1, 1, 1, 1],\n",
       " [1, 0, 0, 0, 0, 1, 1, 0],\n",
       " [0, 1, 0, 1, 1, 1, 0, 1],\n",
       " [1, 1, 0, 0, 0, 1, 0, 0],\n",
       " [1, 0, 0, 0, 1, 1, 0, 1]]"
      ]
     },
     "execution_count": 6,
     "metadata": {},
     "output_type": "execute_result"
    }
   ],
   "source": [
    "# cut-off = 0.5\n",
    "\n",
    "generation[generation > 0.5] = 1\n",
    "generation[generation <= 0.5] = 0\n",
    "generation = generation.astype('int')\n",
    "generation = generation.values.tolist()\n",
    "generation"
   ]
  },
  {
   "cell_type": "markdown",
   "id": "0b141624",
   "metadata": {},
   "source": [
    "- 2단계 : 모델 학습"
   ]
  },
  {
   "cell_type": "code",
   "execution_count": 15,
   "id": "d5189bfc",
   "metadata": {},
   "outputs": [],
   "source": [
    "fitness = []\n",
    "\n",
    "for k in range(6) :\n",
    "    function_inputs = generation[k]\n",
    "\n",
    "    col_data = []\n",
    "    col = 0\n",
    "    for i in function_inputs :\n",
    "        if i == 1 :\n",
    "            col_data.append(col)\n",
    "        col += 1\n",
    "    col_data\n",
    "\n",
    "    new_x = x.iloc[:,col_data] # 각 염색체별로 사용하는 변수 데이터만 가져와서\n",
    "\n",
    "    model = LinearRegression() # 다중 선형 회귀 모델로 분석하여\n",
    "    model.fit(new_x, y)\n",
    "    y_pred = model.predict(new_x)\n",
    "    r2 = r2_score(y, y_pred)\n",
    "    adj_r2 = 1-((768-1)*(1-r2))/(768-8-1) # 적합도 구함\n",
    "    fitness.append(adj_r2)"
   ]
  },
  {
   "cell_type": "code",
   "execution_count": 16,
   "id": "5e1bfa71",
   "metadata": {},
   "outputs": [
    {
     "data": {
      "text/plain": [
       "[0.9153188366810866,\n",
       " 0.9059949353984598,\n",
       " 0.4543522773769625,\n",
       " 0.8440887154833302,\n",
       " 0.48549823117189017,\n",
       " 0.8382838281900078]"
      ]
     },
     "execution_count": 16,
     "metadata": {},
     "output_type": "execute_result"
    }
   ],
   "source": [
    "fitness"
   ]
  },
  {
   "cell_type": "markdown",
   "id": "94282f63",
   "metadata": {},
   "source": [
    "- 3단계 : 적합도 평가"
   ]
  },
  {
   "cell_type": "code",
   "execution_count": 47,
   "id": "061ff005",
   "metadata": {},
   "outputs": [
    {
     "data": {
      "text/plain": [
       "[0.206, 0.204, 0.102, 0.19, 0.109, 0.189]"
      ]
     },
     "execution_count": 47,
     "metadata": {},
     "output_type": "execute_result"
    }
   ],
   "source": [
    "# 적합도의 weight(전체 중에서 비중) 구함\n",
    "\n",
    "weight = []\n",
    "for i in range(len(fitness)) :\n",
    "    a = fitness[i]/sum(fitness)\n",
    "    a = round(a, 3)\n",
    "    weight.append(a)\n",
    "weight"
   ]
  },
  {
   "cell_type": "code",
   "execution_count": 48,
   "id": "7c76ff35",
   "metadata": {},
   "outputs": [
    {
     "data": {
      "text/html": [
       "<div>\n",
       "<style scoped>\n",
       "    .dataframe tbody tr th:only-of-type {\n",
       "        vertical-align: middle;\n",
       "    }\n",
       "\n",
       "    .dataframe tbody tr th {\n",
       "        vertical-align: top;\n",
       "    }\n",
       "\n",
       "    .dataframe thead th {\n",
       "        text-align: right;\n",
       "    }\n",
       "</style>\n",
       "<table border=\"1\" class=\"dataframe\">\n",
       "  <thead>\n",
       "    <tr style=\"text-align: right;\">\n",
       "      <th></th>\n",
       "      <th>fitness</th>\n",
       "      <th>weight</th>\n",
       "    </tr>\n",
       "  </thead>\n",
       "  <tbody>\n",
       "    <tr>\n",
       "      <th>0</th>\n",
       "      <td>0.915319</td>\n",
       "      <td>0.206</td>\n",
       "    </tr>\n",
       "    <tr>\n",
       "      <th>1</th>\n",
       "      <td>0.905995</td>\n",
       "      <td>0.204</td>\n",
       "    </tr>\n",
       "    <tr>\n",
       "      <th>2</th>\n",
       "      <td>0.454352</td>\n",
       "      <td>0.102</td>\n",
       "    </tr>\n",
       "    <tr>\n",
       "      <th>3</th>\n",
       "      <td>0.844089</td>\n",
       "      <td>0.190</td>\n",
       "    </tr>\n",
       "    <tr>\n",
       "      <th>4</th>\n",
       "      <td>0.485498</td>\n",
       "      <td>0.109</td>\n",
       "    </tr>\n",
       "    <tr>\n",
       "      <th>5</th>\n",
       "      <td>0.838284</td>\n",
       "      <td>0.189</td>\n",
       "    </tr>\n",
       "  </tbody>\n",
       "</table>\n",
       "</div>"
      ],
      "text/plain": [
       "    fitness  weight\n",
       "0  0.915319   0.206\n",
       "1  0.905995   0.204\n",
       "2  0.454352   0.102\n",
       "3  0.844089   0.190\n",
       "4  0.485498   0.109\n",
       "5  0.838284   0.189"
      ]
     },
     "execution_count": 48,
     "metadata": {},
     "output_type": "execute_result"
    }
   ],
   "source": [
    "fit_df = pd.DataFrame(zip(fitness, weight))\n",
    "fit_df.columns = ['fitness', 'weight']\n",
    "fit_df"
   ]
  },
  {
   "cell_type": "code",
   "execution_count": 49,
   "id": "338ba6ce",
   "metadata": {},
   "outputs": [
    {
     "data": {
      "text/html": [
       "<div>\n",
       "<style scoped>\n",
       "    .dataframe tbody tr th:only-of-type {\n",
       "        vertical-align: middle;\n",
       "    }\n",
       "\n",
       "    .dataframe tbody tr th {\n",
       "        vertical-align: top;\n",
       "    }\n",
       "\n",
       "    .dataframe thead th {\n",
       "        text-align: right;\n",
       "    }\n",
       "</style>\n",
       "<table border=\"1\" class=\"dataframe\">\n",
       "  <thead>\n",
       "    <tr style=\"text-align: right;\">\n",
       "      <th></th>\n",
       "      <th>fitness</th>\n",
       "      <th>weight</th>\n",
       "      <th>rank</th>\n",
       "    </tr>\n",
       "  </thead>\n",
       "  <tbody>\n",
       "    <tr>\n",
       "      <th>0</th>\n",
       "      <td>0.915319</td>\n",
       "      <td>0.206</td>\n",
       "      <td>1.0</td>\n",
       "    </tr>\n",
       "    <tr>\n",
       "      <th>1</th>\n",
       "      <td>0.905995</td>\n",
       "      <td>0.204</td>\n",
       "      <td>2.0</td>\n",
       "    </tr>\n",
       "    <tr>\n",
       "      <th>2</th>\n",
       "      <td>0.454352</td>\n",
       "      <td>0.102</td>\n",
       "      <td>6.0</td>\n",
       "    </tr>\n",
       "    <tr>\n",
       "      <th>3</th>\n",
       "      <td>0.844089</td>\n",
       "      <td>0.190</td>\n",
       "      <td>3.0</td>\n",
       "    </tr>\n",
       "    <tr>\n",
       "      <th>4</th>\n",
       "      <td>0.485498</td>\n",
       "      <td>0.109</td>\n",
       "      <td>5.0</td>\n",
       "    </tr>\n",
       "    <tr>\n",
       "      <th>5</th>\n",
       "      <td>0.838284</td>\n",
       "      <td>0.189</td>\n",
       "      <td>4.0</td>\n",
       "    </tr>\n",
       "  </tbody>\n",
       "</table>\n",
       "</div>"
      ],
      "text/plain": [
       "    fitness  weight  rank\n",
       "0  0.915319   0.206   1.0\n",
       "1  0.905995   0.204   2.0\n",
       "2  0.454352   0.102   6.0\n",
       "3  0.844089   0.190   3.0\n",
       "4  0.485498   0.109   5.0\n",
       "5  0.838284   0.189   4.0"
      ]
     },
     "execution_count": 49,
     "metadata": {},
     "output_type": "execute_result"
    }
   ],
   "source": [
    "# 적합도의 rank(전체 중에서 순위) 구함\n",
    "\n",
    "fit_df['rank'] = fit_df['fitness'].rank(ascending=False)\n",
    "fit_df"
   ]
  },
  {
   "cell_type": "markdown",
   "id": "30b84efe",
   "metadata": {},
   "source": [
    "- 4단계 : 부모 염색체 선택"
   ]
  },
  {
   "cell_type": "code",
   "execution_count": 50,
   "id": "24d9e57b",
   "metadata": {},
   "outputs": [
    {
     "data": {
      "text/html": [
       "<div>\n",
       "<style scoped>\n",
       "    .dataframe tbody tr th:only-of-type {\n",
       "        vertical-align: middle;\n",
       "    }\n",
       "\n",
       "    .dataframe tbody tr th {\n",
       "        vertical-align: top;\n",
       "    }\n",
       "\n",
       "    .dataframe thead th {\n",
       "        text-align: right;\n",
       "    }\n",
       "</style>\n",
       "<table border=\"1\" class=\"dataframe\">\n",
       "  <thead>\n",
       "    <tr style=\"text-align: right;\">\n",
       "      <th></th>\n",
       "      <th>0</th>\n",
       "      <th>1</th>\n",
       "      <th>2</th>\n",
       "      <th>3</th>\n",
       "      <th>4</th>\n",
       "      <th>5</th>\n",
       "      <th>6</th>\n",
       "      <th>7</th>\n",
       "    </tr>\n",
       "  </thead>\n",
       "  <tbody>\n",
       "    <tr>\n",
       "      <th>0</th>\n",
       "      <td>1</td>\n",
       "      <td>0</td>\n",
       "      <td>1</td>\n",
       "      <td>1</td>\n",
       "      <td>1</td>\n",
       "      <td>1</td>\n",
       "      <td>1</td>\n",
       "      <td>1</td>\n",
       "    </tr>\n",
       "    <tr>\n",
       "      <th>1</th>\n",
       "      <td>1</td>\n",
       "      <td>1</td>\n",
       "      <td>0</td>\n",
       "      <td>0</td>\n",
       "      <td>1</td>\n",
       "      <td>1</td>\n",
       "      <td>1</td>\n",
       "      <td>1</td>\n",
       "    </tr>\n",
       "    <tr>\n",
       "      <th>3</th>\n",
       "      <td>0</td>\n",
       "      <td>1</td>\n",
       "      <td>0</td>\n",
       "      <td>1</td>\n",
       "      <td>1</td>\n",
       "      <td>1</td>\n",
       "      <td>0</td>\n",
       "      <td>1</td>\n",
       "    </tr>\n",
       "  </tbody>\n",
       "</table>\n",
       "</div>"
      ],
      "text/plain": [
       "   0  1  2  3  4  5  6  7\n",
       "0  1  0  1  1  1  1  1  1\n",
       "1  1  1  0  0  1  1  1  1\n",
       "3  0  1  0  1  1  1  0  1"
      ]
     },
     "execution_count": 50,
     "metadata": {},
     "output_type": "execute_result"
    }
   ],
   "source": [
    "# 확정적 선택\n",
    "# N = 50(적합도가 상위 50% 이상인 것)\n",
    "# rank 사용\n",
    "\n",
    "parents_idx = fit_df[fit_df['rank']<=3.0].index.values.tolist()\n",
    "\n",
    "generation_df = pd.DataFrame(generation)\n",
    "parents = generation_df.iloc[parents_idx,:]\n",
    "parents"
   ]
  },
  {
   "cell_type": "code",
   "execution_count": 51,
   "id": "8b8d7e76",
   "metadata": {},
   "outputs": [
    {
     "data": {
      "text/plain": [
       "[0.206, 0.41, 0.512, 0.702, 0.8109999999999999, 1.0]"
      ]
     },
     "execution_count": 51,
     "metadata": {},
     "output_type": "execute_result"
    }
   ],
   "source": [
    "# 확률적 선택\n",
    "# weight 사용\n",
    "\n",
    "weight_sum = []\n",
    "a = 0\n",
    "\n",
    "for i in weight :\n",
    "    a = a+i\n",
    "    weight_sum.append(a)\n",
    "\n",
    "weight_sum # 선택될 가능성이 가중치와 비례"
   ]
  },
  {
   "cell_type": "code",
   "execution_count": 52,
   "id": "766c34ad",
   "metadata": {},
   "outputs": [
    {
     "data": {
      "text/plain": [
       "[0.959, 0.533]"
      ]
     },
     "execution_count": 52,
     "metadata": {},
     "output_type": "execute_result"
    }
   ],
   "source": [
    "rn = []\n",
    "for i in range(2) :\n",
    "    a = random.random() # 난수 생성\n",
    "    a = round(a, 3)\n",
    "    rn.append(a)\n",
    "rn"
   ]
  },
  {
   "cell_type": "code",
   "execution_count": 53,
   "id": "abe93076",
   "metadata": {},
   "outputs": [
    {
     "data": {
      "text/plain": [
       "[5, 3]"
      ]
     },
     "execution_count": 53,
     "metadata": {},
     "output_type": "execute_result"
    }
   ],
   "source": [
    "# 난수가 해당하는 범위의 염색체 선택\n",
    "\n",
    "pa = []\n",
    "for i in rn :\n",
    "    if i>0 and i<weight_sum[0] :\n",
    "        pa.append(0)\n",
    "    elif i>weight_sum[0] and i<weight_sum[1] :\n",
    "        pa.append(1)\n",
    "    elif i>weight_sum[1] and i<weight_sum[2] :\n",
    "        pa.append(2)\n",
    "    elif i>weight_sum[2] and i<weight_sum[3] :\n",
    "        pa.append(3)\n",
    "    elif i>weight_sum[3] and i<weight_sum[4] :\n",
    "        pa.append(4)\n",
    "    elif i>weight_sum[4] and i<weight_sum[5] :\n",
    "        pa.append(5)\n",
    "pa"
   ]
  },
  {
   "cell_type": "code",
   "execution_count": 55,
   "id": "9e7c38c0",
   "metadata": {},
   "outputs": [
    {
     "data": {
      "text/html": [
       "<div>\n",
       "<style scoped>\n",
       "    .dataframe tbody tr th:only-of-type {\n",
       "        vertical-align: middle;\n",
       "    }\n",
       "\n",
       "    .dataframe tbody tr th {\n",
       "        vertical-align: top;\n",
       "    }\n",
       "\n",
       "    .dataframe thead th {\n",
       "        text-align: right;\n",
       "    }\n",
       "</style>\n",
       "<table border=\"1\" class=\"dataframe\">\n",
       "  <thead>\n",
       "    <tr style=\"text-align: right;\">\n",
       "      <th></th>\n",
       "      <th>0</th>\n",
       "      <th>1</th>\n",
       "      <th>2</th>\n",
       "      <th>3</th>\n",
       "      <th>4</th>\n",
       "      <th>5</th>\n",
       "      <th>6</th>\n",
       "      <th>7</th>\n",
       "    </tr>\n",
       "  </thead>\n",
       "  <tbody>\n",
       "    <tr>\n",
       "      <th>5</th>\n",
       "      <td>1</td>\n",
       "      <td>0</td>\n",
       "      <td>0</td>\n",
       "      <td>0</td>\n",
       "      <td>1</td>\n",
       "      <td>1</td>\n",
       "      <td>0</td>\n",
       "      <td>1</td>\n",
       "    </tr>\n",
       "    <tr>\n",
       "      <th>3</th>\n",
       "      <td>0</td>\n",
       "      <td>1</td>\n",
       "      <td>0</td>\n",
       "      <td>1</td>\n",
       "      <td>1</td>\n",
       "      <td>1</td>\n",
       "      <td>0</td>\n",
       "      <td>1</td>\n",
       "    </tr>\n",
       "  </tbody>\n",
       "</table>\n",
       "</div>"
      ],
      "text/plain": [
       "   0  1  2  3  4  5  6  7\n",
       "5  1  0  0  0  1  1  0  1\n",
       "3  0  1  0  1  1  1  0  1"
      ]
     },
     "execution_count": 55,
     "metadata": {},
     "output_type": "execute_result"
    }
   ],
   "source": [
    "generation_df = pd.DataFrame(generation)\n",
    "parents = generation_df.iloc[pa,:]\n",
    "parents"
   ]
  },
  {
   "cell_type": "markdown",
   "id": "8880376e",
   "metadata": {},
   "source": [
    "- 5단계 : 자식 염색체 생성"
   ]
  },
  {
   "cell_type": "code",
   "execution_count": 57,
   "id": "ddac6daf",
   "metadata": {},
   "outputs": [
    {
     "data": {
      "text/plain": [
       "6"
      ]
     },
     "execution_count": 57,
     "metadata": {},
     "output_type": "execute_result"
    }
   ],
   "source": [
    "# 교배\n",
    "# crossover point = 1\n",
    "\n",
    "cut = random.randint(0,7) # 교배 지점 선택\n",
    "cut"
   ]
  },
  {
   "cell_type": "code",
   "execution_count": 80,
   "id": "bad9f0dd",
   "metadata": {},
   "outputs": [
    {
     "data": {
      "text/html": [
       "<div>\n",
       "<style scoped>\n",
       "    .dataframe tbody tr th:only-of-type {\n",
       "        vertical-align: middle;\n",
       "    }\n",
       "\n",
       "    .dataframe tbody tr th {\n",
       "        vertical-align: top;\n",
       "    }\n",
       "\n",
       "    .dataframe thead th {\n",
       "        text-align: right;\n",
       "    }\n",
       "</style>\n",
       "<table border=\"1\" class=\"dataframe\">\n",
       "  <thead>\n",
       "    <tr style=\"text-align: right;\">\n",
       "      <th></th>\n",
       "      <th>0</th>\n",
       "      <th>1</th>\n",
       "      <th>2</th>\n",
       "      <th>3</th>\n",
       "      <th>4</th>\n",
       "      <th>5</th>\n",
       "      <th>6</th>\n",
       "      <th>7</th>\n",
       "    </tr>\n",
       "  </thead>\n",
       "  <tbody>\n",
       "    <tr>\n",
       "      <th>0</th>\n",
       "      <td>1</td>\n",
       "      <td>0</td>\n",
       "      <td>0</td>\n",
       "      <td>0</td>\n",
       "      <td>1</td>\n",
       "      <td>1</td>\n",
       "      <td>0</td>\n",
       "      <td>1</td>\n",
       "    </tr>\n",
       "    <tr>\n",
       "      <th>1</th>\n",
       "      <td>0</td>\n",
       "      <td>1</td>\n",
       "      <td>0</td>\n",
       "      <td>1</td>\n",
       "      <td>1</td>\n",
       "      <td>1</td>\n",
       "      <td>0</td>\n",
       "      <td>1</td>\n",
       "    </tr>\n",
       "  </tbody>\n",
       "</table>\n",
       "</div>"
      ],
      "text/plain": [
       "   0  1  2  3  4  5  6  7\n",
       "0  1  0  0  0  1  1  0  1\n",
       "1  0  1  0  1  1  1  0  1"
      ]
     },
     "execution_count": 80,
     "metadata": {},
     "output_type": "execute_result"
    }
   ],
   "source": [
    "child_1 = parents.iloc[0,:cut].tolist() + parents.iloc[1,cut:].tolist()\n",
    "child_2 = parents.iloc[1,:cut].tolist() + parents.iloc[0,cut:].tolist()\n",
    "child = pd.DataFrame([child_1, child_2])\n",
    "child"
   ]
  },
  {
   "cell_type": "code",
   "execution_count": 92,
   "id": "10e162e8",
   "metadata": {},
   "outputs": [
    {
     "data": {
      "text/plain": [
       "[[0.26, 0.01, 0.5, 0.43, 0.13, 0.43, 0.61, 0.33],\n",
       " [0.8, 0.01, 0.94, 0.44, 0.19, 0.08, 0.5, 0.98]]"
      ]
     },
     "execution_count": 92,
     "metadata": {},
     "output_type": "execute_result"
    }
   ],
   "source": [
    "# 돌연변이\n",
    "# mutation rate = 0.01\n",
    "\n",
    "random_no = []\n",
    "\n",
    "for j in range(2) :\n",
    "    chromosome = []\n",
    "    \n",
    "    for i in range(8) :\n",
    "        a = random.random() # 난수 생성\n",
    "        a = round(a, 2)\n",
    "        chromosome.append(a)\n",
    "        \n",
    "    random_no.append(chromosome)\n",
    "\n",
    "random_no"
   ]
  },
  {
   "cell_type": "code",
   "execution_count": 103,
   "id": "5f2912ad",
   "metadata": {},
   "outputs": [],
   "source": [
    "aaaa = []\n",
    "for i in random_no :\n",
    "    for j in i :\n",
    "        aaaa.append(j)\n",
    "\n",
    "bbbb = []\n",
    "for i in child.values.tolist() :\n",
    "    for j in i :\n",
    "        bbbb.append(j)\n",
    "\n",
    "m = []\n",
    "n = 0\n",
    "for i in aaaa :\n",
    "    if i <= 0.01 : # 난수가 0.01보다 작은 위치 저장\n",
    "        m.append(n)\n",
    "    n += 1\n",
    "\n",
    "for i in m : # 해당 위치 변수 반대로 바꿔줌\n",
    "    if bbbb[i] == 0 :\n",
    "        bbbb[i] = 1\n",
    "    else :\n",
    "        bbbb[i] = 0"
   ]
  },
  {
   "cell_type": "code",
   "execution_count": 104,
   "id": "b1491d65",
   "metadata": {},
   "outputs": [
    {
     "data": {
      "text/plain": [
       "[[1, 1, 0, 0, 1, 1, 0, 1], [0, 0, 0, 1, 1, 1, 0, 1]]"
      ]
     },
     "execution_count": 104,
     "metadata": {},
     "output_type": "execute_result"
    }
   ],
   "source": [
    "final_child = [bbbb[:8],bbbb[8:]]\n",
    "final_child"
   ]
  },
  {
   "cell_type": "markdown",
   "id": "097be239",
   "metadata": {},
   "source": [
    "- 6단계 : 최적 변수 집합 선택"
   ]
  },
  {
   "cell_type": "code",
   "execution_count": 106,
   "id": "55d906ba",
   "metadata": {},
   "outputs": [],
   "source": [
    "# 학습 종료 후 가장 높은 적합도 보이는 조합 찾기\n",
    "\n",
    "fitness = []\n",
    "\n",
    "for k in range(2) :\n",
    "    function_inputs = final_child[k]\n",
    "\n",
    "    col_data = []\n",
    "    col = 0\n",
    "    for i in function_inputs :\n",
    "        if i == 1 :\n",
    "            col_data.append(col)\n",
    "        col += 1\n",
    "    col_data\n",
    "\n",
    "    new_x = x.iloc[:,col_data] # 각 염색체별로 사용하는 변수 데이터만 가져와서\n",
    "\n",
    "    model = LinearRegression() # 다중 선형 회귀 모델로 분석하여\n",
    "    model.fit(new_x, y)\n",
    "    y_pred = model.predict(new_x)\n",
    "    r2 = r2_score(y, y_pred)\n",
    "    adj_r2 = 1-((768-1)*(1-r2))/(768-8-1) # 적합도 구함\n",
    "    fitness.append(adj_r2)"
   ]
  },
  {
   "cell_type": "code",
   "execution_count": 107,
   "id": "3a8b5f36",
   "metadata": {},
   "outputs": [
    {
     "data": {
      "text/plain": [
       "[0.839180423678257, 0.7967906519854066]"
      ]
     },
     "execution_count": 107,
     "metadata": {},
     "output_type": "execute_result"
    }
   ],
   "source": [
    "fitness"
   ]
  },
  {
   "cell_type": "code",
   "execution_count": 109,
   "id": "f7d2b963",
   "metadata": {},
   "outputs": [
    {
     "name": "stdout",
     "output_type": "stream",
     "text": [
      "[1, 1, 0, 0, 1, 1, 0, 1]\n"
     ]
    }
   ],
   "source": [
    "# 최적 변수 조합\n",
    "if fitness[0] > fitness[1] :\n",
    "    print(final_child[0])\n",
    "else :\n",
    "    print(final_child[1])"
   ]
  }
 ],
 "metadata": {
  "kernelspec": {
   "display_name": "Python 3 (ipykernel)",
   "language": "python",
   "name": "python3"
  },
  "language_info": {
   "codemirror_mode": {
    "name": "ipython",
    "version": 3
   },
   "file_extension": ".py",
   "mimetype": "text/x-python",
   "name": "python",
   "nbconvert_exporter": "python",
   "pygments_lexer": "ipython3",
   "version": "3.9.7"
  }
 },
 "nbformat": 4,
 "nbformat_minor": 5
}
